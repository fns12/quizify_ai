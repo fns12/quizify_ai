{
 "cells": [
  {
   "cell_type": "markdown",
   "id": "2987e41d",
   "metadata": {},
   "source": [
    "### **Extracting Text from pdf**"
   ]
  },
  {
   "cell_type": "code",
   "execution_count": 4,
   "id": "4e6a0a27",
   "metadata": {},
   "outputs": [],
   "source": [
    "from langchain.document_loaders import PyPDFLoader\n",
    "\n",
    "loader = PyPDFLoader(\"Handouts_Lecture.pdf\")\n",
    "docs = loader.load()"
   ]
  },
  {
   "cell_type": "code",
   "execution_count": 5,
   "id": "8f8bf90f",
   "metadata": {},
   "outputs": [
    {
     "name": "stdout",
     "output_type": "stream",
     "text": [
      "COMSATS University Islamabad, Virtual Campus \n",
      "HUM111 Pakistan studies \n",
      "Lecture 17 Handouts \n",
      " \n",
      "Page 1 of 6 \n",
      "Constitution of 1973 \n",
      "Background \n",
      "Abrogation of the 1962 Constitution on March 25, 1969 led to second martial law in the \n",
      "country.  Zulfiqar Ali Bhutto became first civilian chief martial law administrator of Pakistan \n",
      "on 20th December, 1971. After assuming power the most important task for Zulfiqar Ali \n",
      "Bhutto was to frame a new constitution. He was in favor of presidential form of government \n",
      "as this would give him more power but due to conflicting opinions within the Pakistan \n",
      "People’s Party he had to settle for parliamentary system. National  Assembly approved an \n",
      "Interim Constitution, which was enforced on April 21, 1972. \n",
      "Constitution Making \n",
      "Constitutional Committee comprised National Assembly (NA) members from all parties was \n",
      "set up in April 1972. Law Minister was the Chairman of this Committ ee. All parties agreed \n",
      "on the future political system in October 1972. The Committee reported on December 31, \n",
      "1972. After long deliberations and compromises the final draft was approved unanimously on \n",
      "April 10, 1973. Zulfiqar Ali Bhutto amassed a lot of po wer in the 1973 constitution and gave \n",
      "only nominal authority to the head of the state. The new constitution was approved on 14th \n",
      "August, 1973. This constitution remained enforced from 1973 to 1977 and suspended from \n",
      "1977 to 1985. Later in 1985 this constit ution was enforced again with a major amendment \n",
      "called 8th amendment, also termed as the mini-constitution. Later, Zia introduced 58-2-B and \n",
      "made president more powerful giving him power to dissolve the national assembly.  \n",
      "The Constitution functioned since  then with two gaps. It remained operational during \n",
      "following periods: \n",
      "• 1973-77: Operational \n",
      "• 1977-1985: Suspended \n",
      "• 1985-1999: Operational after changes \n",
      "• 1999-2002 : Suspended\n",
      "Page 2 of 6 \n",
      " \n",
      "• 2002 onwards Operational after changes \n",
      "Salient Features of 1973 Constitution \n",
      "All the Islamic provisions of the previous constitutions were included in the Constitution of \n",
      "1973. Some more Islamic provisions were also added, which are as under. \n",
      "❖ Parliamentary System \n",
      "Parliamentary form of government was introduced. It was a parliamentary constitution having \n",
      "powerful Prime Minister (PM) as head of government with a very weak President. President \n",
      "must act on the advice of PM. All of his orders were to be countersigned by PM.  Prime \n",
      "Minister need to  be elected by the NA. PM exercised all execut ive authority. PM was \n",
      "answerable to the National Assembly (NA). \n",
      "❖ Role of President \n",
      "Role of President was reduced to a mere symbolic figure. In 1985, powers of the President \n",
      "were increased through the 8th constitutional amendment. He had power to dissolve t he NA. \n",
      "He had the powers of appointment of caretaker PM. He could give his consent to bills passed \n",
      "by the parliament or returns these.  \n",
      "According to the Constitution of 1973 the President must be at least 45 years of age. He must \n",
      "be Muslim and Qualified to  become member of the NA. He is elected by the Parliament and \n",
      "the Provincial Assemblies for 5 years. President was to act on the advice of the Prime \n",
      "Minister.  \n",
      "❖ Bicameralism \n",
      "Bicameralism was introduced in the country including Upper and Lower houses. \n",
      "o The Senate \n",
      "Upper House called Senate. In t his house equal representation was given to Provinces. \n",
      "Seats were reserved for the tribal areas, women and technocrats. Its original strength was \n",
      "63, which was later raised to 87 and then 100, while the latest number i s 104. Senate was \n",
      "to be elected through indirect election. It’s a permanent House as half of its members are \n",
      "elected after three years.\n",
      "Page 3 of 6 \n",
      " \n",
      "o National Assembly \n",
      "Lower House called National Assembly is elected on population basis. Its Original \n",
      "strength was 210 but  now it is 342. NA is elected for five years. National Assembly \n",
      "member are elected through direct elections. Voting age for the franchise is lowered from \n",
      "21 to 18. \n",
      "National Assembly is more powerful than the Senate. Budget is presented before national \n",
      "assembly (NA). Cabinet was to be answerable to National Assembly. \n",
      "Prime Minister was to be elected by the national assembly. Parliament under 1973 \n",
      "constitution is a powerful legislative body. It enjoys all legislative powers. It has control \n",
      "of the executive through questions, resolutions, parliamentary committees etc. \n",
      "❖ Federal System \n",
      "Federal form of government was introduced. Federation of Pakistan has four provinces and \n",
      "federally administered areas. Two lists are given in the constitution: Federal list and \n",
      "Concurrent list. Residuary powers belong to provinces. \n",
      "❖ Provincial Structure \n",
      "The President on the advice of the PM appointed provincial Governors .  Elected Chief \n",
      "Minister exercises executive powers. Parliamentary system was introduced in the provinces.  \n",
      "Size of the provincial assembly varied depending on the size of population and number of \n",
      "constituencies. Governor rule to prevail in case of breakdown of provincial government. \n",
      "Provinces to depend on centre for finance. Residuary powers were to rest with the provinces. \n",
      "Centre was given emergency powers. Sufficient provincial autonomy was ensured in the \n",
      "constitution. \n",
      "❖ Principles of Policy \n",
      "Islamic provisions are provided in Principles of Policy. Foreign policy principles are also \n",
      "given under this heading.\n",
      "Page 4 of 6 \n",
      " \n",
      "❖ Fundamental Rights \n",
      "Fundamental Rights are secured in the constitution and are implemented through the highest \n",
      "court. Supreme Court designated as the highest court in the country. \n",
      "❖ Islamic Provisions \n",
      "Title of the state is Islamic Republic of Pakistan. The objecti ves resolution was the preamble \n",
      "in the initial constitution but through article 2 -A of 8th amendment it was inserted in the \n",
      "constitution in 1985.  Islam was declared the State Religion of Pakistan. Ahma dis were \n",
      "declared non-Muslims. Definition of Muslim wa s included by an amendment.  Principles of \n",
      "Policy also carried some Islamic clauses. \n",
      "Council for Islamic Ideology is established under the constitution. i. e. Federal Shariat Court \n",
      "was added in 1981. Council of Islamic ideology was established. \n",
      "❖ National Language \n",
      "Urdu was declared National Language; however, English may be used for official purposes \n",
      "until arrangements would be made for its replacement by Urdu. Provincial Assembly may \n",
      "prescribe measures for teaching, promotion and use of a provincial langu age in addition to \n",
      "the national language. Provincial assemblies were allowed to prescribe measures for the \n",
      "promotion of provincial languages. \n",
      "❖ National Security Council \n",
      "National Security Council was added in 2002 in advisory capacity.  \n",
      "❖  Judiciary \n",
      "An independent judiciary was given under the constitution. Supreme Court of Pakistan was \n",
      "the highest court. One High Court wa s established in each province and one in Azad \n",
      "Kashmir. A chain of lower courts wa s there under the high courts. One high court was \n",
      "established in each province including Azad Jammu and Kashmir.\n",
      "Page 5 of 6 \n",
      " \n",
      "Bhutto’s Rule \n",
      "The 1973 constitution gave Zulfiqar Ali Bhutto immense power, and therefore under this \n",
      "constitution, he tried to implement his will on the people but faced tremendous opposition, \n",
      "especially from the Baloch tribes. Nawab Akbar Bugti was made the governor of Balochistan \n",
      "to curb resistance there posed by Nawab  Khair Baksh Marri and Ataullah  Mengal. Nawab \n",
      "Akbar Bugti toed Bhutto’s line and resorted to forceful violent of crushing the opposi tion. \n",
      "The matters that could be solved through debate and discussion in the provinc ial assembly \n",
      "were now subjected to  the battlefield. Ultimately, in order to tackle the restless situation in \n",
      "Balochistan a full-scale military operation was launched under G eneral Tika Khan, who was \n",
      "notorious for his role in the 1971 war. \n",
      "Pakistan People’s Party enjoyed enormous support in Sindh and South Punjab, but its \n",
      "popularity was significantly low in the other two provinces. It was for this reason that \n",
      "Balochistan and Khyber Pakhtunkhwa (NWFP at that time) were subjected to Bhutto’s wrath. \n",
      "Consequently, the Federal Security Force (FSF), comprising of retired military personnel, \n",
      "was established to manage the Prime Minister’s affairs through brutal measures. Formation of \n",
      "FSF gave rise to political assassinations as a means of settling scores with dissenters and \n",
      "opposing factions – Lahore, Karachi, Hyderabad and NWFP had to face an alarmingly high \n",
      "level of assassinations. As the political landscape of the country deteriorate d, Hayat Ahmed \n",
      "Khan Sherpao was killed when Bhutto was on a foreign trip. Upon his return, Zulfiqar Ali \n",
      "Bhutto blamed Hayat Abdul Wali Khan for Sherpao’s assassination and arrested him.  \n",
      "On the other hand, the retirement age of General Tika Khan was approaching, and Bhutto \n",
      "was posed with the challenge of looking for a loyal and submissive replacement. Bhutto’s \n",
      "quest for appointing a docile army chief led him to select general Zia, bypassin g many senior \n",
      "officials eligible for the post. This move compounded Bhutto’s declining popularity among \n",
      "the army officers who were already dissatisfied and critical of his policies. At the same time, \n",
      "the political wing of Pakistan’s premier spy agency, ISI , was created. The political wing of \n",
      "ISI was exclusively dedicated to helping Bhutto maneuver the upcoming elections in his \n",
      "favor.  \n",
      "Subsequently, elections were held on March 1977 and PNA (Pakistan National Alliance) was \n",
      "badly defeated.  The elections we re drastically rigged and managed by Bhutto’s FSF to make\n",
      "Page 6 of 6 \n",
      " \n",
      "sure that Pakistan People’s Party scores a fantastic victory. PNA launched countrywide \n",
      "agitation movement to protest against the conduct of unfair elections; there were street \n",
      "violence and large -scale arrests in all major cities of the country. The economy of Pakistan \n",
      "had also suffered because of this, and it was on a downward spiral to the extent that Bhutto \n",
      "ran out of money to pay his FSF. Thus, FSF collapsed which made Bhutto more open to the \n",
      "idea of negotiating with PNA leaders for the smooth functioning of his government. \n",
      "However, PNA members and Bhutto could not reach an agreement vis -à-vis process of \n",
      "holding fresh elections in the country. This made military intervention inevitable, and on 5th \n",
      "July 1977, Zulfiqar Ali Bhutto’s government was toppled by his handpicked chief of army \n",
      "staff, General Zia -ul-Haq. Bhutto was arrested, the constitution was once again suspended, \n",
      "and Pakistan slipped under its third military rule. General Zia -ul-Haq re -activated this \n",
      "constitution in 1985.  Later on this constitution was once again suspended by Pervaiz  \n",
      "Musharaf in his regime twice partially in 1999 and 2007. \n",
      "Importance of Constitution of 1973 \n",
      "Constitution of 1973 has a great importance in the constitutional history of Pakistan because a \n",
      "lot of Islamic Clauses are added in the constitution as compared to the previous constitutions. \n",
      "This constitution cannot be dismissed (Cancelled or abrogated), any persons who will \n",
      "dissolve it will be hanged till death.\n"
     ]
    }
   ],
   "source": [
    "for doc in docs:\n",
    "    print(doc.page_content)"
   ]
  },
  {
   "cell_type": "markdown",
   "id": "b8c664a5",
   "metadata": {},
   "source": [
    "### **Splitting into chunks:**"
   ]
  },
  {
   "cell_type": "code",
   "execution_count": 6,
   "id": "77889ed3",
   "metadata": {},
   "outputs": [],
   "source": [
    "from langchain_text_splitters import RecursiveCharacterTextSplitter"
   ]
  },
  {
   "cell_type": "code",
   "execution_count": 7,
   "id": "045f6990",
   "metadata": {},
   "outputs": [],
   "source": [
    "splitter = RecursiveCharacterTextSplitter(\n",
    "    chunk_size=1000,\n",
    "    chunk_overlap=100\n",
    ")\n",
    "chunks = splitter.split_documents(docs) "
   ]
  },
  {
   "cell_type": "code",
   "execution_count": 8,
   "id": "c8ac9844",
   "metadata": {},
   "outputs": [
    {
     "data": {
      "text/plain": [
       "14"
      ]
     },
     "execution_count": 8,
     "metadata": {},
     "output_type": "execute_result"
    }
   ],
   "source": [
    "len(chunks)"
   ]
  },
  {
   "cell_type": "code",
   "execution_count": 9,
   "id": "8a223eb2",
   "metadata": {},
   "outputs": [
    {
     "data": {
      "text/plain": [
       "[Document(metadata={'producer': 'Microsoft® Word for Office 365', 'creator': 'Microsoft® Word for Office 365', 'creationdate': '2018-10-26T13:14:05+05:00', 'title': 'COMSATS University Islamabad, Virtual Campus', 'author': 'mudassir', 'subject': 'HUM111 Pakistan studies', 'moddate': '2018-10-26T13:14:05+05:00', 'source': 'Handouts_Lecture.pdf', 'total_pages': 6, 'page': 0, 'page_label': '1'}, page_content='COMSATS University Islamabad, Virtual Campus \\nHUM111 Pakistan studies \\nLecture 17 Handouts \\n \\nPage 1 of 6 \\nConstitution of 1973 \\nBackground \\nAbrogation of the 1962 Constitution on March 25, 1969 led to second martial law in the \\ncountry.  Zulfiqar Ali Bhutto became first civilian chief martial law administrator of Pakistan \\non 20th December, 1971. After assuming power the most important task for Zulfiqar Ali \\nBhutto was to frame a new constitution. He was in favor of presidential form of government \\nas this would give him more power but due to conflicting opinions within the Pakistan \\nPeople’s Party he had to settle for parliamentary system. National  Assembly approved an \\nInterim Constitution, which was enforced on April 21, 1972. \\nConstitution Making \\nConstitutional Committee comprised National Assembly (NA) members from all parties was \\nset up in April 1972. Law Minister was the Chairman of this Committ ee. All parties agreed'),\n",
       " Document(metadata={'producer': 'Microsoft® Word for Office 365', 'creator': 'Microsoft® Word for Office 365', 'creationdate': '2018-10-26T13:14:05+05:00', 'title': 'COMSATS University Islamabad, Virtual Campus', 'author': 'mudassir', 'subject': 'HUM111 Pakistan studies', 'moddate': '2018-10-26T13:14:05+05:00', 'source': 'Handouts_Lecture.pdf', 'total_pages': 6, 'page': 0, 'page_label': '1'}, page_content='set up in April 1972. Law Minister was the Chairman of this Committ ee. All parties agreed \\non the future political system in October 1972. The Committee reported on December 31, \\n1972. After long deliberations and compromises the final draft was approved unanimously on \\nApril 10, 1973. Zulfiqar Ali Bhutto amassed a lot of po wer in the 1973 constitution and gave \\nonly nominal authority to the head of the state. The new constitution was approved on 14th \\nAugust, 1973. This constitution remained enforced from 1973 to 1977 and suspended from \\n1977 to 1985. Later in 1985 this constit ution was enforced again with a major amendment \\ncalled 8th amendment, also termed as the mini-constitution. Later, Zia introduced 58-2-B and \\nmade president more powerful giving him power to dissolve the national assembly.  \\nThe Constitution functioned since  then with two gaps. It remained operational during \\nfollowing periods: \\n• 1973-77: Operational \\n• 1977-1985: Suspended'),\n",
       " Document(metadata={'producer': 'Microsoft® Word for Office 365', 'creator': 'Microsoft® Word for Office 365', 'creationdate': '2018-10-26T13:14:05+05:00', 'title': 'COMSATS University Islamabad, Virtual Campus', 'author': 'mudassir', 'subject': 'HUM111 Pakistan studies', 'moddate': '2018-10-26T13:14:05+05:00', 'source': 'Handouts_Lecture.pdf', 'total_pages': 6, 'page': 0, 'page_label': '1'}, page_content='following periods: \\n• 1973-77: Operational \\n• 1977-1985: Suspended \\n• 1985-1999: Operational after changes \\n• 1999-2002 : Suspended'),\n",
       " Document(metadata={'producer': 'Microsoft® Word for Office 365', 'creator': 'Microsoft® Word for Office 365', 'creationdate': '2018-10-26T13:14:05+05:00', 'title': 'COMSATS University Islamabad, Virtual Campus', 'author': 'mudassir', 'subject': 'HUM111 Pakistan studies', 'moddate': '2018-10-26T13:14:05+05:00', 'source': 'Handouts_Lecture.pdf', 'total_pages': 6, 'page': 1, 'page_label': '2'}, page_content='Page 2 of 6 \\n \\n• 2002 onwards Operational after changes \\nSalient Features of 1973 Constitution \\nAll the Islamic provisions of the previous constitutions were included in the Constitution of \\n1973. Some more Islamic provisions were also added, which are as under. \\n❖ Parliamentary System \\nParliamentary form of government was introduced. It was a parliamentary constitution having \\npowerful Prime Minister (PM) as head of government with a very weak President. President \\nmust act on the advice of PM. All of his orders were to be countersigned by PM.  Prime \\nMinister need to  be elected by the NA. PM exercised all execut ive authority. PM was \\nanswerable to the National Assembly (NA). \\n❖ Role of President \\nRole of President was reduced to a mere symbolic figure. In 1985, powers of the President \\nwere increased through the 8th constitutional amendment. He had power to dissolve t he NA. \\nHe had the powers of appointment of caretaker PM. He could give his consent to bills passed'),\n",
       " Document(metadata={'producer': 'Microsoft® Word for Office 365', 'creator': 'Microsoft® Word for Office 365', 'creationdate': '2018-10-26T13:14:05+05:00', 'title': 'COMSATS University Islamabad, Virtual Campus', 'author': 'mudassir', 'subject': 'HUM111 Pakistan studies', 'moddate': '2018-10-26T13:14:05+05:00', 'source': 'Handouts_Lecture.pdf', 'total_pages': 6, 'page': 1, 'page_label': '2'}, page_content='He had the powers of appointment of caretaker PM. He could give his consent to bills passed \\nby the parliament or returns these.  \\nAccording to the Constitution of 1973 the President must be at least 45 years of age. He must \\nbe Muslim and Qualified to  become member of the NA. He is elected by the Parliament and \\nthe Provincial Assemblies for 5 years. President was to act on the advice of the Prime \\nMinister.  \\n❖ Bicameralism \\nBicameralism was introduced in the country including Upper and Lower houses. \\no The Senate \\nUpper House called Senate. In t his house equal representation was given to Provinces. \\nSeats were reserved for the tribal areas, women and technocrats. Its original strength was \\n63, which was later raised to 87 and then 100, while the latest number i s 104. Senate was \\nto be elected through indirect election. It’s a permanent House as half of its members are \\nelected after three years.'),\n",
       " Document(metadata={'producer': 'Microsoft® Word for Office 365', 'creator': 'Microsoft® Word for Office 365', 'creationdate': '2018-10-26T13:14:05+05:00', 'title': 'COMSATS University Islamabad, Virtual Campus', 'author': 'mudassir', 'subject': 'HUM111 Pakistan studies', 'moddate': '2018-10-26T13:14:05+05:00', 'source': 'Handouts_Lecture.pdf', 'total_pages': 6, 'page': 2, 'page_label': '3'}, page_content='Page 3 of 6 \\n \\no National Assembly \\nLower House called National Assembly is elected on population basis. Its Original \\nstrength was 210 but  now it is 342. NA is elected for five years. National Assembly \\nmember are elected through direct elections. Voting age for the franchise is lowered from \\n21 to 18. \\nNational Assembly is more powerful than the Senate. Budget is presented before national \\nassembly (NA). Cabinet was to be answerable to National Assembly. \\nPrime Minister was to be elected by the national assembly. Parliament under 1973 \\nconstitution is a powerful legislative body. It enjoys all legislative powers. It has control \\nof the executive through questions, resolutions, parliamentary committees etc. \\n❖ Federal System \\nFederal form of government was introduced. Federation of Pakistan has four provinces and \\nfederally administered areas. Two lists are given in the constitution: Federal list and \\nConcurrent list. Residuary powers belong to provinces. \\n❖ Provincial Structure'),\n",
       " Document(metadata={'producer': 'Microsoft® Word for Office 365', 'creator': 'Microsoft® Word for Office 365', 'creationdate': '2018-10-26T13:14:05+05:00', 'title': 'COMSATS University Islamabad, Virtual Campus', 'author': 'mudassir', 'subject': 'HUM111 Pakistan studies', 'moddate': '2018-10-26T13:14:05+05:00', 'source': 'Handouts_Lecture.pdf', 'total_pages': 6, 'page': 2, 'page_label': '3'}, page_content='Concurrent list. Residuary powers belong to provinces. \\n❖ Provincial Structure \\nThe President on the advice of the PM appointed provincial Governors .  Elected Chief \\nMinister exercises executive powers. Parliamentary system was introduced in the provinces.  \\nSize of the provincial assembly varied depending on the size of population and number of \\nconstituencies. Governor rule to prevail in case of breakdown of provincial government. \\nProvinces to depend on centre for finance. Residuary powers were to rest with the provinces. \\nCentre was given emergency powers. Sufficient provincial autonomy was ensured in the \\nconstitution. \\n❖ Principles of Policy \\nIslamic provisions are provided in Principles of Policy. Foreign policy principles are also \\ngiven under this heading.'),\n",
       " Document(metadata={'producer': 'Microsoft® Word for Office 365', 'creator': 'Microsoft® Word for Office 365', 'creationdate': '2018-10-26T13:14:05+05:00', 'title': 'COMSATS University Islamabad, Virtual Campus', 'author': 'mudassir', 'subject': 'HUM111 Pakistan studies', 'moddate': '2018-10-26T13:14:05+05:00', 'source': 'Handouts_Lecture.pdf', 'total_pages': 6, 'page': 3, 'page_label': '4'}, page_content='Page 4 of 6 \\n \\n❖ Fundamental Rights \\nFundamental Rights are secured in the constitution and are implemented through the highest \\ncourt. Supreme Court designated as the highest court in the country. \\n❖ Islamic Provisions \\nTitle of the state is Islamic Republic of Pakistan. The objecti ves resolution was the preamble \\nin the initial constitution but through article 2 -A of 8th amendment it was inserted in the \\nconstitution in 1985.  Islam was declared the State Religion of Pakistan. Ahma dis were \\ndeclared non-Muslims. Definition of Muslim wa s included by an amendment.  Principles of \\nPolicy also carried some Islamic clauses. \\nCouncil for Islamic Ideology is established under the constitution. i. e. Federal Shariat Court \\nwas added in 1981. Council of Islamic ideology was established. \\n❖ National Language \\nUrdu was declared National Language; however, English may be used for official purposes \\nuntil arrangements would be made for its replacement by Urdu. Provincial Assembly may'),\n",
       " Document(metadata={'producer': 'Microsoft® Word for Office 365', 'creator': 'Microsoft® Word for Office 365', 'creationdate': '2018-10-26T13:14:05+05:00', 'title': 'COMSATS University Islamabad, Virtual Campus', 'author': 'mudassir', 'subject': 'HUM111 Pakistan studies', 'moddate': '2018-10-26T13:14:05+05:00', 'source': 'Handouts_Lecture.pdf', 'total_pages': 6, 'page': 3, 'page_label': '4'}, page_content='until arrangements would be made for its replacement by Urdu. Provincial Assembly may \\nprescribe measures for teaching, promotion and use of a provincial langu age in addition to \\nthe national language. Provincial assemblies were allowed to prescribe measures for the \\npromotion of provincial languages. \\n❖ National Security Council \\nNational Security Council was added in 2002 in advisory capacity.  \\n❖  Judiciary \\nAn independent judiciary was given under the constitution. Supreme Court of Pakistan was \\nthe highest court. One High Court wa s established in each province and one in Azad \\nKashmir. A chain of lower courts wa s there under the high courts. One high court was \\nestablished in each province including Azad Jammu and Kashmir.'),\n",
       " Document(metadata={'producer': 'Microsoft® Word for Office 365', 'creator': 'Microsoft® Word for Office 365', 'creationdate': '2018-10-26T13:14:05+05:00', 'title': 'COMSATS University Islamabad, Virtual Campus', 'author': 'mudassir', 'subject': 'HUM111 Pakistan studies', 'moddate': '2018-10-26T13:14:05+05:00', 'source': 'Handouts_Lecture.pdf', 'total_pages': 6, 'page': 4, 'page_label': '5'}, page_content='Page 5 of 6 \\n \\nBhutto’s Rule \\nThe 1973 constitution gave Zulfiqar Ali Bhutto immense power, and therefore under this \\nconstitution, he tried to implement his will on the people but faced tremendous opposition, \\nespecially from the Baloch tribes. Nawab Akbar Bugti was made the governor of Balochistan \\nto curb resistance there posed by Nawab  Khair Baksh Marri and Ataullah  Mengal. Nawab \\nAkbar Bugti toed Bhutto’s line and resorted to forceful violent of crushing the opposi tion. \\nThe matters that could be solved through debate and discussion in the provinc ial assembly \\nwere now subjected to  the battlefield. Ultimately, in order to tackle the restless situation in \\nBalochistan a full-scale military operation was launched under G eneral Tika Khan, who was \\nnotorious for his role in the 1971 war. \\nPakistan People’s Party enjoyed enormous support in Sindh and South Punjab, but its \\npopularity was significantly low in the other two provinces. It was for this reason that'),\n",
       " Document(metadata={'producer': 'Microsoft® Word for Office 365', 'creator': 'Microsoft® Word for Office 365', 'creationdate': '2018-10-26T13:14:05+05:00', 'title': 'COMSATS University Islamabad, Virtual Campus', 'author': 'mudassir', 'subject': 'HUM111 Pakistan studies', 'moddate': '2018-10-26T13:14:05+05:00', 'source': 'Handouts_Lecture.pdf', 'total_pages': 6, 'page': 4, 'page_label': '5'}, page_content='popularity was significantly low in the other two provinces. It was for this reason that \\nBalochistan and Khyber Pakhtunkhwa (NWFP at that time) were subjected to Bhutto’s wrath. \\nConsequently, the Federal Security Force (FSF), comprising of retired military personnel, \\nwas established to manage the Prime Minister’s affairs through brutal measures. Formation of \\nFSF gave rise to political assassinations as a means of settling scores with dissenters and \\nopposing factions – Lahore, Karachi, Hyderabad and NWFP had to face an alarmingly high \\nlevel of assassinations. As the political landscape of the country deteriorate d, Hayat Ahmed \\nKhan Sherpao was killed when Bhutto was on a foreign trip. Upon his return, Zulfiqar Ali \\nBhutto blamed Hayat Abdul Wali Khan for Sherpao’s assassination and arrested him.  \\nOn the other hand, the retirement age of General Tika Khan was approaching, and Bhutto \\nwas posed with the challenge of looking for a loyal and submissive replacement. Bhutto’s'),\n",
       " Document(metadata={'producer': 'Microsoft® Word for Office 365', 'creator': 'Microsoft® Word for Office 365', 'creationdate': '2018-10-26T13:14:05+05:00', 'title': 'COMSATS University Islamabad, Virtual Campus', 'author': 'mudassir', 'subject': 'HUM111 Pakistan studies', 'moddate': '2018-10-26T13:14:05+05:00', 'source': 'Handouts_Lecture.pdf', 'total_pages': 6, 'page': 4, 'page_label': '5'}, page_content='was posed with the challenge of looking for a loyal and submissive replacement. Bhutto’s \\nquest for appointing a docile army chief led him to select general Zia, bypassin g many senior \\nofficials eligible for the post. This move compounded Bhutto’s declining popularity among \\nthe army officers who were already dissatisfied and critical of his policies. At the same time, \\nthe political wing of Pakistan’s premier spy agency, ISI , was created. The political wing of \\nISI was exclusively dedicated to helping Bhutto maneuver the upcoming elections in his \\nfavor.  \\nSubsequently, elections were held on March 1977 and PNA (Pakistan National Alliance) was \\nbadly defeated.  The elections we re drastically rigged and managed by Bhutto’s FSF to make'),\n",
       " Document(metadata={'producer': 'Microsoft® Word for Office 365', 'creator': 'Microsoft® Word for Office 365', 'creationdate': '2018-10-26T13:14:05+05:00', 'title': 'COMSATS University Islamabad, Virtual Campus', 'author': 'mudassir', 'subject': 'HUM111 Pakistan studies', 'moddate': '2018-10-26T13:14:05+05:00', 'source': 'Handouts_Lecture.pdf', 'total_pages': 6, 'page': 5, 'page_label': '6'}, page_content='Page 6 of 6 \\n \\nsure that Pakistan People’s Party scores a fantastic victory. PNA launched countrywide \\nagitation movement to protest against the conduct of unfair elections; there were street \\nviolence and large -scale arrests in all major cities of the country. The economy of Pakistan \\nhad also suffered because of this, and it was on a downward spiral to the extent that Bhutto \\nran out of money to pay his FSF. Thus, FSF collapsed which made Bhutto more open to the \\nidea of negotiating with PNA leaders for the smooth functioning of his government. \\nHowever, PNA members and Bhutto could not reach an agreement vis -à-vis process of \\nholding fresh elections in the country. This made military intervention inevitable, and on 5th \\nJuly 1977, Zulfiqar Ali Bhutto’s government was toppled by his handpicked chief of army \\nstaff, General Zia -ul-Haq. Bhutto was arrested, the constitution was once again suspended,'),\n",
       " Document(metadata={'producer': 'Microsoft® Word for Office 365', 'creator': 'Microsoft® Word for Office 365', 'creationdate': '2018-10-26T13:14:05+05:00', 'title': 'COMSATS University Islamabad, Virtual Campus', 'author': 'mudassir', 'subject': 'HUM111 Pakistan studies', 'moddate': '2018-10-26T13:14:05+05:00', 'source': 'Handouts_Lecture.pdf', 'total_pages': 6, 'page': 5, 'page_label': '6'}, page_content='staff, General Zia -ul-Haq. Bhutto was arrested, the constitution was once again suspended, \\nand Pakistan slipped under its third military rule. General Zia -ul-Haq re -activated this \\nconstitution in 1985.  Later on this constitution was once again suspended by Pervaiz  \\nMusharaf in his regime twice partially in 1999 and 2007. \\nImportance of Constitution of 1973 \\nConstitution of 1973 has a great importance in the constitutional history of Pakistan because a \\nlot of Islamic Clauses are added in the constitution as compared to the previous constitutions. \\nThis constitution cannot be dismissed (Cancelled or abrogated), any persons who will \\ndissolve it will be hanged till death.')]"
      ]
     },
     "execution_count": 9,
     "metadata": {},
     "output_type": "execute_result"
    }
   ],
   "source": [
    "chunks"
   ]
  },
  {
   "cell_type": "markdown",
   "id": "098262bd",
   "metadata": {},
   "source": [
    "### **Chatgroq**"
   ]
  },
  {
   "cell_type": "code",
   "execution_count": 10,
   "id": "354f4e2e",
   "metadata": {},
   "outputs": [],
   "source": [
    "from langchain_groq import ChatGroq\n",
    "import os\n",
    "from dotenv import load_dotenv"
   ]
  },
  {
   "cell_type": "code",
   "execution_count": 11,
   "id": "5699fd1f",
   "metadata": {},
   "outputs": [],
   "source": [
    "# Load variables from .env\n",
    "load_dotenv()\n",
    "\n",
    "# Get API key from environment\n",
    "api_key = os.getenv(\"GROQ_API_KEY\")\n",
    "\n",
    "if not api_key:\n",
    "    raise ValueError(\"❌ GROQ_API_KEY not found. Please set it in your .env file.\")\n"
   ]
  },
  {
   "cell_type": "code",
   "execution_count": 15,
   "id": "eaa41701",
   "metadata": {},
   "outputs": [
    {
     "name": "stdout",
     "output_type": "stream",
     "text": [
      "The first person to land on the moon was Neil Armstrong. He stepped out of the lunar module Eagle and onto the moon's surface on July 20, 1969, during the Apollo 11 mission. Armstrong famously declared, \"That's one small step for man, one giant leap for mankind,\" as he became the first human to set foot on the moon. He was followed by fellow astronaut Edwin \"Buzz\" Aldrin, who also walked on the moon's surface during the mission.\n"
     ]
    }
   ],
   "source": [
    "# Create the LLM client\n",
    "llm = ChatGroq(\n",
    "    temperature=0.1,\n",
    "    groq_api_key=api_key,\n",
    "    model_name=\"llama-3.3-70b-versatile\"\n",
    ")\n",
    "\n",
    "# Example query\n",
    "response = llm.invoke(\"Who was the first person to land on the moon?\")\n",
    "print(response.content)"
   ]
  },
  {
   "cell_type": "markdown",
   "id": "d60bd8b7",
   "metadata": {},
   "source": [
    "### WHATS HAPPENING?\n",
    "The user uploads a document(pdf). The text has been extracted and converted into chunks.\n",
    "\n",
    "The user can choose different modes:\n",
    "1) QNA\n",
    "2) MCQS\n",
    "3) Flashcards\n",
    "4) Summary\n",
    "\n",
    "If the user uses any from the first three options, the user has to select no.of questions and diffculty(easy,medium, hard). \\\n",
    "For example the user chooses:\n",
    "- mode: mcqs\n",
    "- no.of ques: 5\n",
    "- difficulty: easy\n",
    "\n",
    "For each chunk,5 easy mcqs are generated (**chunk-wise results**). Then all the mcqs are passed to final prompt that combines them to ensure that total 5 mcqs are there and there is no repition (**Merged output from all chunks**).\n",
    "\n",
    "If the user chooses mode: summary, then for each chunk, summary is generated and then passed to final prompt that generates a final summary from individual sumamaries of each chunk."
   ]
  },
  {
   "cell_type": "markdown",
   "id": "1598f890",
   "metadata": {},
   "source": [
    "### **Chunk-wise Results**:"
   ]
  },
  {
   "cell_type": "code",
   "execution_count": 18,
   "id": "5e470de6",
   "metadata": {},
   "outputs": [],
   "source": [
    "def generate_prompt(mode, num_questions, difficulty, chunk_text):\n",
    "    if mode == \"QNA\":\n",
    "        if not num_questions or not difficulty:\n",
    "            raise ValueError(\"For QNA, 'num_questions' and 'difficulty' must be provided.\")\n",
    "        prompt = f\"\"\"\n",
    "        You are a knowledgeable teacher. Generate {num_questions} question-answer pairs from the text below.\n",
    "\n",
    "        Requirements:\n",
    "        - Questions should be {difficulty} level (easy, medium, hard)\n",
    "        - Each answer should be complete, concise, and accurate\n",
    "        - Include only factual information from the text\n",
    "        - Format as:\n",
    "           Q:1 ...\n",
    "           A: ...\n",
    "           Q:2 ...\n",
    "           A: ...\n",
    "\n",
    "        Text:\n",
    "        {chunk_text}\"\"\"\n",
    "    \n",
    "    elif mode == \"MCQS\":\n",
    "        if not num_questions or not difficulty:\n",
    "            raise ValueError(\"For MCQS, 'num_questions' and 'difficulty' must be provided.\")\n",
    "        prompt = f\"\"\" \n",
    "        You are an educational content creator. Create {num_questions} multiple-choice questions from the text below.\n",
    "\n",
    "        Requirements:\n",
    "        - Questions should be {difficulty} level (easy, medium, hard)\n",
    "        - Each question should have 4 options labeled A, B, C, D\n",
    "        - Clearly indicate the correct option\n",
    "        - Avoid ambiguous or trick questions\n",
    "        - Format as:\n",
    "        1. Question: ...\n",
    "           A) ...\n",
    "           B) ...\n",
    "           C) ...\n",
    "           D) ...\n",
    "           Answer: B\n",
    "\n",
    "        Text:\n",
    "        {chunk_text}\n",
    "        \"\"\"\n",
    "\n",
    "    elif mode == \"Flashcards\":\n",
    "        if not num_questions or not difficulty:\n",
    "            raise ValueError(\"For Flashcards, 'num_questions' and 'difficulty' must be provided.\")\n",
    "        prompt = f\"\"\"You are an expert educator. Create {num_questions} flashcards from the text below.\n",
    "\n",
    "        Requirements:\n",
    "        - Questions should be {difficulty} level (easy, medium, hard)\n",
    "        - Each flashcard should have a “Question” and an “Answer”\n",
    "        - Keep answers concise but informative\n",
    "        - Format as:\n",
    "           Q:1 ...\n",
    "           A: ...\n",
    "           Q:2 ...\n",
    "           A: ...\n",
    "\n",
    "        Text:\n",
    "        {chunk_text}\"\"\"\n",
    "\n",
    "    elif mode == \"Summary\":\n",
    "        prompt = f\"\"\"\n",
    "        You are an expert summarizer. Create a clear, concise, and accurate summary of the following text.\n",
    "\n",
    "        Requirements:\n",
    "        - Highlight the main ideas and key points\n",
    "        - Avoid repetition and unnecessary detail\n",
    "        - Keep it objective and fact-based\n",
    "        - Aim for readability\n",
    "\n",
    "        Text:\n",
    "        {chunk_text}\n",
    "        \"\"\"\n",
    "    else:\n",
    "        raise ValueError(\"Invalid mode. Choose from: QNA, MCQS, Flashcards, Summary\")\n",
    "\n",
    "    return llm.invoke(prompt)"
   ]
  },
  {
   "cell_type": "markdown",
   "id": "4f299727",
   "metadata": {},
   "source": [
    "### **Merged Output from All Chunks:**"
   ]
  },
  {
   "cell_type": "code",
   "execution_count": null,
   "id": "2a96d0c4",
   "metadata": {},
   "outputs": [],
   "source": [
    "\n",
    "def consolidated_result(mode, num_questions=None, difficulty=None):\n",
    "    output = []\n",
    "    # generating result for each chunk\n",
    "    for chunk in chunks:\n",
    "        result = generate_prompt(mode, num_questions, difficulty, chunk)\n",
    "        output.append(result)\n",
    "\n",
    "    # combining results\n",
    "    joined_outputs = [o.content for o in output]\n",
    "\n",
    "    # passing the combined result to the prompt to get final result\n",
    "    prompt = f\"You are an expert educator. Here are {mode} generated from different chunks:\\n\\n{joined_outputs}\\n\\n\"\n",
    "\n",
    "    if mode in [\"MCQS\", \"QNA\", \"Flashcards\"]:\n",
    "        prompt += \"- Remove duplicates and similar questions\\n\"\n",
    "        prompt += f\"- Ensure all items are {difficulty} level\\n\"\n",
    "        prompt += f\"- Limit the final output to {num_questions} items\\n\"\n",
    "        prompt += \"- Number them sequentially and keep formatting clean\\n\"\n",
    "    elif mode == \"Summary\":\n",
    "        prompt += \"- Merge into a coherent and concise summary\\n- Avoid repetition\\n\"\n",
    "    else:\n",
    "        raise ValueError(\"Mode must be MCQS, QNA, Flashcards, or Summary\")\n",
    "\n",
    "    prompt += \"Return only the final polished output.\"\n",
    "\n",
    "    return llm.invoke(prompt).content"
   ]
  },
  {
   "cell_type": "code",
   "execution_count": null,
   "id": "a60c4e9c",
   "metadata": {},
   "outputs": [],
   "source": [
    "# no need to pass difficulty and no.of questions becuz they are none by default\n",
    "result = consolidated_result(\"Summary\")"
   ]
  },
  {
   "cell_type": "code",
   "execution_count": null,
   "id": "3464e0d2",
   "metadata": {},
   "outputs": [],
   "source": [
    "result = consolidated_result(\"MCQS\",5,\"easy\")"
   ]
  },
  {
   "cell_type": "code",
   "execution_count": null,
   "id": "b40850b8",
   "metadata": {},
   "outputs": [],
   "source": [
    "result"
   ]
  },
  {
   "cell_type": "code",
   "execution_count": null,
   "id": "8b0c72e7",
   "metadata": {},
   "outputs": [],
   "source": []
  }
 ],
 "metadata": {
  "kernelspec": {
   "display_name": "Python 3",
   "language": "python",
   "name": "python3"
  },
  "language_info": {
   "codemirror_mode": {
    "name": "ipython",
    "version": 3
   },
   "file_extension": ".py",
   "mimetype": "text/x-python",
   "name": "python",
   "nbconvert_exporter": "python",
   "pygments_lexer": "ipython3",
   "version": "3.12.4"
  }
 },
 "nbformat": 4,
 "nbformat_minor": 5
}
